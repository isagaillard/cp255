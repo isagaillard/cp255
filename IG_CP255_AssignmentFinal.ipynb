{
 "cells": [
  {
   "cell_type": "code",
   "execution_count": null,
   "metadata": {},
   "outputs": [],
   "source": [
    "#Isa Gaillard\n",
    "#Assignment 5\n",
    "#Date: 5/12/2020\n",
    "#Title: Project Wrap-Up: Air Pollution and Respiratory Health Relationship Analysis"
   ]
  },
  {
   "cell_type": "markdown",
   "metadata": {},
   "source": [
    "For my project, I am building on data and notebooks that I have spent time using within a course I am GSI'ing in the Environmental Science and Policy Management (ESPM) Department. Within these notebooks, I have used data from the website of the Office of Environmental Health Hazard Assessment (OEHHA). The data comes from an online mapping tool called CalEnviroScreen or CES for short. I will use data from CES 1.1 (2012), CES 2.0 (2014), and CES 3.0 (2018) to assess changes over time, across geographies, and other demographic variables. CES includes environmental pollution and population data across different geographies throughout California. CES 1.1 includes data at the zip code level, while 2.0 and 3.0 provide data at the census tract level. In order to analyze the data, I will import the three different versions of CES to my Jupyter notebook as csv files within a Data folder. I will then use the different versions of CES to create a dataframe. I will also use code that was provided in the ESPM notebook in order to clean the data and run certain functions in separate \"Data Cleaning\" notebooks."
   ]
  },
  {
   "cell_type": "code",
   "execution_count": null,
   "metadata": {},
   "outputs": [],
   "source": [
    "import datascience as ds\n",
    "import numpy as np\n",
    "import pandas as pd\n",
    "import matplotlib.pyplot as plots\n",
    "import scipy as sp\n",
    "%matplotlib inline\n",
    "from mpl_toolkits.mplot3d import Axes3D\n",
    "import statsmodels.formula.api as sm\n",
    "\n"
   ]
  },
  {
   "cell_type": "code",
   "execution_count": null,
   "metadata": {},
   "outputs": [],
   "source": [
    "pwd"
   ]
  },
  {
   "cell_type": "markdown",
   "metadata": {},
   "source": [
    "Using the cleaned data that I have stored in my Assignment-2 Data folder, I will now begin to assess the three different versions of CES, creating a unique table for each. I will do this as preparation to begin analyzing how different variables have changed over time. "
   ]
  },
  {
   "cell_type": "code",
   "execution_count": null,
   "metadata": {},
   "outputs": [],
   "source": [
    "df = pd.read_csv(r'/home/jovyan/cp255/Assignment-2/Data/cleaned_ces1_1_data.csv')\n",
    "print (df)"
   ]
  },
  {
   "cell_type": "code",
   "execution_count": null,
   "metadata": {},
   "outputs": [],
   "source": [
    "ces1_1_data = ds.Table.read_table(r'/home/jovyan/cp255/Assignment-2/Data/cleaned_ces1_1_data.csv')\n",
    "ces1_1_data.take(np.arange(0,50))"
   ]
  },
  {
   "cell_type": "code",
   "execution_count": null,
   "metadata": {},
   "outputs": [],
   "source": [
    "df = pd.read_csv(r'/home/jovyan/cp255/Assignment-2/Data/cleaned_ces2_data.csv')\n",
    "print (df)"
   ]
  },
  {
   "cell_type": "code",
   "execution_count": null,
   "metadata": {
    "scrolled": true
   },
   "outputs": [],
   "source": [
    "ces2_data = ds.Table.read_table(r'/home/jovyan/cp255/Assignment-2/Data/cleaned_ces2_data.csv')\n",
    "ces2_data.take(np.arange(0,50))"
   ]
  },
  {
   "cell_type": "markdown",
   "metadata": {},
   "source": [
    "Below, I create four data frames corresponding to the data for all of California, the Bay Area, San Francisco, and Oakland. "
   ]
  },
  {
   "cell_type": "code",
   "execution_count": null,
   "metadata": {},
   "outputs": [],
   "source": [
    "df = pd.read_csv(r'/home/jovyan/cp255/Assignment-2/Data/cleaned_ces3_data.csv')\n",
    "print (df)"
   ]
  },
  {
   "cell_type": "code",
   "execution_count": null,
   "metadata": {},
   "outputs": [],
   "source": [
    "ces3_data = ds.Table.read_table(r'/home/jovyan/cp255/Assignment-2/Data/cleaned_ces3_data.csv')\n",
    "ces3_data.take(np.arange(0,50))"
   ]
  },
  {
   "cell_type": "markdown",
   "metadata": {},
   "source": [
    "At this point I have added each of the three versions of CES to this notebook as separate tables. "
   ]
  },
  {
   "cell_type": "code",
   "execution_count": null,
   "metadata": {},
   "outputs": [],
   "source": [
    "ces3_data"
   ]
  },
  {
   "cell_type": "code",
   "execution_count": null,
   "metadata": {},
   "outputs": [],
   "source": [
    "type(ces3_data)"
   ]
  },
  {
   "cell_type": "code",
   "execution_count": null,
   "metadata": {},
   "outputs": [],
   "source": [
    "df_1 = pd.read_csv(r'/home/jovyan/cp255/Assignment-2/Data/cleaned_bay_counties_data.csv')\n",
    "print (df_1)"
   ]
  },
  {
   "cell_type": "code",
   "execution_count": null,
   "metadata": {},
   "outputs": [],
   "source": [
    "bay_counties = ds.Table.read_table(r'/home/jovyan/cp255/Assignment-2/Data/cleaned_bay_counties_data.csv')\n",
    "bay_counties.take(np.arange(0,50))"
   ]
  },
  {
   "cell_type": "code",
   "execution_count": null,
   "metadata": {},
   "outputs": [],
   "source": [
    "bay_counties"
   ]
  },
  {
   "cell_type": "code",
   "execution_count": null,
   "metadata": {},
   "outputs": [],
   "source": [
    "df_2 = pd.read_csv(r'/home/jovyan/cp255/Assignment-2/Data/cleaned_san_francisco_data.csv')\n",
    "print (df_2)"
   ]
  },
  {
   "cell_type": "code",
   "execution_count": null,
   "metadata": {},
   "outputs": [],
   "source": [
    "san_francisco = ds.Table.read_table(r'/home/jovyan/cp255/Assignment-2/Data/cleaned_san_francisco_data.csv')\n",
    "san_francisco.take(np.arange(0,50))"
   ]
  },
  {
   "cell_type": "code",
   "execution_count": null,
   "metadata": {},
   "outputs": [],
   "source": [
    "san_francisco"
   ]
  },
  {
   "cell_type": "code",
   "execution_count": null,
   "metadata": {},
   "outputs": [],
   "source": [
    "df_3 = pd.read_csv(r'/home/jovyan/cp255/Assignment-2/Data/cleaned_oakland_data.csv')\n",
    "print (df_3)"
   ]
  },
  {
   "cell_type": "code",
   "execution_count": null,
   "metadata": {},
   "outputs": [],
   "source": [
    "oakland = ds.Table.read_table(r'/home/jovyan/cp255/Assignment-2/Data/cleaned_oakland_data.csv')\n",
    "oakland.take(np.arange(0,50))"
   ]
  },
  {
   "cell_type": "code",
   "execution_count": null,
   "metadata": {},
   "outputs": [],
   "source": [
    "oakland"
   ]
  },
  {
   "cell_type": "markdown",
   "metadata": {},
   "source": [
    "Below, I will run a few regressions to determine the correlation coefficient - r between variables of interest in the dataset. Note that some of the code in the cell directly below comes from one of the notebooks in my ESPM class. "
   ]
  },
  {
   "cell_type": "code",
   "execution_count": null,
   "metadata": {},
   "outputs": [],
   "source": [
    "def standard_units(xyz): #helps us define the correlation function\n",
    "    return (xyz - np.mean(xyz))/np.std(xyz) \n",
    "\n",
    "#Finds the correlation between two columns of a table\n",
    "def correlation(table, label_x, label_y):\n",
    "    return np.mean(standard_units(table.column(label_x))*standard_units(table.column(label_y)))"
   ]
  },
  {
   "cell_type": "code",
   "execution_count": null,
   "metadata": {},
   "outputs": [],
   "source": [
    "correlation(ces3_data, 'ozone', 'asthma')"
   ]
  },
  {
   "cell_type": "code",
   "execution_count": null,
   "metadata": {},
   "outputs": [],
   "source": [
    "correlation(ces3_data, 'pm_2_5', 'asthma')"
   ]
  },
  {
   "cell_type": "code",
   "execution_count": null,
   "metadata": {},
   "outputs": [],
   "source": [
    "correlation(ces3_data, 'diesel', 'asthma')"
   ]
  },
  {
   "cell_type": "code",
   "execution_count": null,
   "metadata": {},
   "outputs": [],
   "source": [
    "correlation(ces3_data, 'toxic_releases', 'asthma')"
   ]
  },
  {
   "cell_type": "code",
   "execution_count": null,
   "metadata": {},
   "outputs": [],
   "source": [
    "correlation(ces3_data, 'traffic', 'asthma')"
   ]
  },
  {
   "cell_type": "code",
   "execution_count": null,
   "metadata": {},
   "outputs": [],
   "source": [
    "correlation(ces3_data, 'pollution_burden_score', 'asthma')"
   ]
  },
  {
   "cell_type": "code",
   "execution_count": null,
   "metadata": {},
   "outputs": [],
   "source": [
    "correlation(ces3_data, 'ces_3_score', 'asthma')"
   ]
  },
  {
   "cell_type": "code",
   "execution_count": null,
   "metadata": {},
   "outputs": [],
   "source": [
    "correlation(bay_counties, 'ozone', 'cardiovascular_disease')"
   ]
  },
  {
   "cell_type": "code",
   "execution_count": null,
   "metadata": {},
   "outputs": [],
   "source": [
    "correlation(ces3_data, 'pm_2_5', 'cardiovascular_disease')"
   ]
  },
  {
   "cell_type": "code",
   "execution_count": null,
   "metadata": {},
   "outputs": [],
   "source": [
    "correlation(ces3_data, 'diesel', 'cardiovascular_disease')"
   ]
  },
  {
   "cell_type": "code",
   "execution_count": null,
   "metadata": {},
   "outputs": [],
   "source": [
    "correlation(ces3_data, 'toxic_releases', 'cardiovascular_disease')"
   ]
  },
  {
   "cell_type": "code",
   "execution_count": null,
   "metadata": {},
   "outputs": [],
   "source": [
    "correlation(ces3_data, 'traffic', 'cardiovascular_disease')"
   ]
  },
  {
   "cell_type": "code",
   "execution_count": null,
   "metadata": {},
   "outputs": [],
   "source": [
    "correlation(ces3_data, 'pollution_burden_score', 'cardiovascular_disease')"
   ]
  },
  {
   "cell_type": "code",
   "execution_count": null,
   "metadata": {},
   "outputs": [],
   "source": [
    "correlation(ces3_data, 'ces_3_score', 'cardiovascular_disease')"
   ]
  },
  {
   "cell_type": "markdown",
   "metadata": {},
   "source": [
    "A few of the interesting findings that emerged from the regression analysis: 1) the cumulative measure of pollution and social factors: \"ces_3_score\" has the strongest positive relationship with the ashtma and cardiovascular disease variables. 2) In terms of individual variables, diesel is the best predictor of asthma and ozone has a relatively strong and positive relationship with cardiovascular disease. 3) Surprisingly, toxic releases and traffic have a slightly negative and very weak relationship with the health variables. "
   ]
  },
  {
   "cell_type": "markdown",
   "metadata": {},
   "source": [
    "Now I will use code from one of my ESPM notebooks to conduct simple linear regression. I will analyze the relationships between pollution variables and health outcomes across the three different CES tables. "
   ]
  },
  {
   "cell_type": "code",
   "execution_count": null,
   "metadata": {},
   "outputs": [],
   "source": [
    "def standard_units(xyz): #ignore this function!\n",
    "    return (xyz - np.mean(xyz))/np.std(xyz) \n",
    "\n",
    "def correlation(table, label_x, label_y):\n",
    "    return np.mean(standard_units(table.column(label_x))*standard_units(table.column(label_y)))\n",
    "\n",
    "# We use these function to construct the regression line. As you can see, correlation is used to \n",
    "# evaluate the slope of the regression line below.\n",
    "\n",
    "def slope(table, label_x, label_y):\n",
    "    r = correlation(table, label_x, label_y) # correlation function used in slope!\n",
    "    return r*np.std(table.column(label_y))/np.std(table.column(label_x))\n",
    "\n",
    "def intercept(table, label_x, label_y):\n",
    "    return np.mean(table.column(label_y)) - slope(table, label_x, label_y)*np.mean(table.column(label_x))"
   ]
  },
  {
   "cell_type": "code",
   "execution_count": null,
   "metadata": {},
   "outputs": [],
   "source": [
    "slope_of_reg_line = slope(ces1_1_data, \"diesel\", \"asthma\")\n",
    "slope_of_reg_line"
   ]
  },
  {
   "cell_type": "code",
   "execution_count": null,
   "metadata": {},
   "outputs": [],
   "source": [
    "intercept_of_reg_line = intercept(ces1_1_data, \"diesel\", \"asthma\")\n",
    "intercept_of_reg_line"
   ]
  },
  {
   "cell_type": "markdown",
   "metadata": {},
   "source": [
    "Now I have the slope (m) and the interceipt (b) of the the regression line. Given the values I just calculated above, I can write the equation of the regression line:"
   ]
  },
  {
   "cell_type": "markdown",
   "metadata": {},
   "source": [
    "y = .36 * x + 37.72"
   ]
  },
  {
   "cell_type": "markdown",
   "metadata": {},
   "source": [
    "Now that I have the regression line, I can plot it on a scatter plot to visualize the prediction line on top of the actual data. (Some of the below code comes from my ESPM class)"
   ]
  },
  {
   "cell_type": "code",
   "execution_count": null,
   "metadata": {},
   "outputs": [],
   "source": [
    "# defining the equation in Python!\n",
    "y = lambda x: slope_of_reg_line*x+intercept_of_reg_line "
   ]
  },
  {
   "cell_type": "code",
   "execution_count": null,
   "metadata": {},
   "outputs": [],
   "source": [
    "ces1_1_data.scatter(\"diesel\", \"asthma\", alpha = .20, s = 15) #normal scatter plot\n",
    "fig = plots.plot(ces1_1_data.column('diesel'), y(ces1_1_data.column('diesel')), c = 'orange', lw = 3) #drawing the regression line\n",
    "plots.title(\"CES 1.1 Ozone Emissions & Cardiovascular Disease Rates\"), plots.xlim(0,100), plots.ylim(0,200);"
   ]
  },
  {
   "cell_type": "code",
   "execution_count": null,
   "metadata": {},
   "outputs": [],
   "source": [
    "fig = plots.figure()\n",
    "\n",
    "plots.savefig('test.png', bbox_inches='tight')"
   ]
  },
  {
   "cell_type": "markdown",
   "metadata": {},
   "source": [
    "The gold line above is the equation of the line I derived: <span style='color: orange'>$Y = 0.36*X + 37.72$</span>. This line created by the equation in yellow is the **best** linear predictor of the data. With this data, I can begin to make predictions about how many asthma incidents a census tract will report based on the amount of diesel on and off-road emissions it has. For example, a census tract that reported diesel emissions of 60kg/day would most likely report about 60 cases of asthma per 10,000 population. While a census tract with diesel emissions of about 20kg/day would most likely report 45 cases of astham per 10,000 population.\n",
    "\n",
    "Conveniently, the `.scatter()` function has a setting that allows me to draw the regression line within the scatterplot (without doing any calculations): all I do is to specify `fit_line = True`. Run the cell below and compare it to the plot above."
   ]
  },
  {
   "cell_type": "code",
   "execution_count": null,
   "metadata": {},
   "outputs": [],
   "source": [
    "ces1_1_data.scatter(\"diesel\", \"asthma\", fit_line=True, alpha = .30, s = 20)\n",
    "plots.title(\"CES 1.1 Diesel Emissions & Asthma Rates\"), plots.xlim(0,100), plots.ylim(0,200);"
   ]
  },
  {
   "cell_type": "markdown",
   "metadata": {},
   "source": [
    "Now I will run the analysis for CES 2.0."
   ]
  },
  {
   "cell_type": "code",
   "execution_count": null,
   "metadata": {},
   "outputs": [],
   "source": [
    "slope_of_reg_line = slope(ces2_data, \"diesel\", \"asthma\")\n",
    "slope_of_reg_line"
   ]
  },
  {
   "cell_type": "code",
   "execution_count": null,
   "metadata": {},
   "outputs": [],
   "source": [
    "intercept_of_reg_line = intercept(ces2_data, \"diesel\", \"asthma\")\n",
    "intercept_of_reg_line"
   ]
  },
  {
   "cell_type": "code",
   "execution_count": null,
   "metadata": {},
   "outputs": [],
   "source": [
    "ces2_data.scatter(\"diesel\", \"asthma\", alpha = .20, s = 15)\n",
    "plots.plot(ces2_data.column('diesel'), y(ces2_data.column('diesel')), c = 'orange', lw = 3)\n",
    "plots.title(\"CES 2.0 Diesel Emissions & Asthma Rates\"), plots.xlim(0,100), plots.ylim(0,200);"
   ]
  },
  {
   "cell_type": "code",
   "execution_count": null,
   "metadata": {},
   "outputs": [],
   "source": [
    "ces2_data.scatter(\"diesel\", \"asthma\", fit_line=True, alpha = .20, s = 15)\n",
    "plots.title(\"CES 2.0 Diesel Emissions & Asthma Rates\"), plots.xlim(0,100), plots.ylim(0,200);"
   ]
  },
  {
   "cell_type": "markdown",
   "metadata": {},
   "source": [
    "Analysis for CES 3.0 and Bay Area Counties"
   ]
  },
  {
   "cell_type": "code",
   "execution_count": null,
   "metadata": {},
   "outputs": [],
   "source": [
    "slope_of_reg_line = slope(bay_counties, \"diesel\", \"asthma\")\n",
    "slope_of_reg_line"
   ]
  },
  {
   "cell_type": "code",
   "execution_count": null,
   "metadata": {},
   "outputs": [],
   "source": [
    "intercept_of_reg_line = intercept(ces3_data, \"diesel\", \"asthma\")\n",
    "intercept_of_reg_line"
   ]
  },
  {
   "cell_type": "code",
   "execution_count": null,
   "metadata": {},
   "outputs": [],
   "source": [
    "slope_of_reg_line = slope(bay_counties, \"ozone\", \"cardiovascular_disease\")\n",
    "slope_of_reg_line"
   ]
  },
  {
   "cell_type": "code",
   "execution_count": null,
   "metadata": {},
   "outputs": [],
   "source": [
    "ces3_data.scatter(\"ozone\", \"cardiovascular_disease\", fit_line=True, alpha = .3, s = 10)\n",
    "plots.plot(ces3_data.column('ozone'), y(ces3_data.column('ozone')),  c = 'r', lw = 2)\n",
    "plots.title(\"California Ozone Emissions & Cardiovascular Disease\", fontsize=10), plots.xlim(0.02,.07), plots.ylim(0,20);\n",
    "plots.xlabel('Ozone Emission Rate (PPM)', fontsize=10)\n",
    "plots.ylabel('Cardiovascular Disease Rate (Per 10,000)', fontsize=10)"
   ]
  },
  {
   "cell_type": "code",
   "execution_count": null,
   "metadata": {},
   "outputs": [],
   "source": [
    "bay_counties.scatter(\"ozone\", \"cardiovascular_disease\", fit_line=True, color = 'g', alpha = .3, s = 10)\n",
    "plots.plot(bay_counties.column('ozone'), y(bay_counties.column('ozone')),  c = 'r', lw = 2)\n",
    "plots.title(\"Bay Area Ozone Emissions & Cardiovascular Disease\", fontsize=10), plots.xlim(0.02,.07), plots.ylim(0,20);\n",
    "plots.xlabel('Ozone Emission Rate (PPM)', fontsize=10)\n",
    "plots.ylabel('Cardiovascular Disease Rate (Per 10,000)', fontsize=10)"
   ]
  },
  {
   "cell_type": "code",
   "execution_count": null,
   "metadata": {},
   "outputs": [],
   "source": [
    "ces3_data.scatter(\"diesel\", \"asthma\", fit_line=True, alpha = .20, s = 15)\n",
    "plots.title(\"California Diesel Emissions & Asthma Rates\", fontsize=12), plots.xlim(0,100), plots.ylim(0,200);\n",
    "plots.xlabel('Diesel Emissions (kg/Day)', fontsize=12)\n",
    "plots.ylabel('Asthma Rate (Per 10,000)', fontsize=12)"
   ]
  },
  {
   "cell_type": "code",
   "execution_count": null,
   "metadata": {},
   "outputs": [],
   "source": [
    "bay_counties.scatter(\"diesel\", \"asthma\", fit_line=True, color = 'g', alpha = .20, s = 15)\n",
    "plots.title(\"Bay Area Diesel Emissions & Asthma Rates\", fontsize=12), plots.xlim(0,100), plots.ylim(0,200);\n",
    "plots.xlabel('Diesel Emissions (kg/Day)', fontsize=12)\n",
    "plots.ylabel('Asthma Rate (Per 10,000)', fontsize=12)"
   ]
  },
  {
   "cell_type": "markdown",
   "metadata": {},
   "source": [
    "Below I will run code in order to calculate the coefficient of determiniation (R-Squared) for the variables of interest from CES 3.0. "
   ]
  },
  {
   "cell_type": "code",
   "execution_count": null,
   "metadata": {},
   "outputs": [],
   "source": [
    "print('r: ', correlation(ces3_data, 'ozone', 'cardiovascular_disease'))"
   ]
  },
  {
   "cell_type": "code",
   "execution_count": null,
   "metadata": {},
   "outputs": [],
   "source": [
    "print('r: ', correlation(ces3_data, 'diesel', 'asthma'))\n",
    "ces3_data.scatter(\"diesel\", \"asthma\", fit_line=True, alpha = .18, s = 10)\n",
    "plots.title(\"CES 3.0 Diesel Emissions & Asthma Rates\");"
   ]
  },
  {
   "cell_type": "code",
   "execution_count": null,
   "metadata": {},
   "outputs": [],
   "source": [
    "print('r-squared: ', correlation(ces3_data, 'diesel', 'asthma')**2)\n",
    "ces3_data.scatter(\"diesel\", \"asthma\", fit_line=True, alpha = .20, s = 15)\n",
    "plots.title(\"CES 3.0 Diesel Emissions & Asthma Rates\");"
   ]
  },
  {
   "cell_type": "markdown",
   "metadata": {},
   "source": [
    "**correlation coefficient:**\n",
    "\n",
    "As we would assume, diesel is correlated with asthma. But `r = 0.036` is a weak relationship."
   ]
  },
  {
   "cell_type": "markdown",
   "metadata": {},
   "source": [
    "Now I will run the cell below to find the value of r-squared for the above plot."
   ]
  },
  {
   "cell_type": "markdown",
   "metadata": {},
   "source": [
    "`R-squared = 0.036`. This very low r-squared means that the above model analyzing the relationship between diesel and asthma is not a good predictor of asthma. However, I will return to R-squared later on when I conduct multiple regression in order develop more accurate models that take into account cumulative measures of pollution and negative health outcomes.\n"
   ]
  },
  {
   "cell_type": "markdown",
   "metadata": {},
   "source": [
    "Below I will conduct regression analysis using CES 3.0 Score and Asthma from CES 3.0. Since CES 3.0 Score takes into account all of the variables in the data table, it is another effective way to understand the cummulative effects of pollution and socioecomomic factors on negative health outcomes."
   ]
  },
  {
   "cell_type": "code",
   "execution_count": null,
   "metadata": {},
   "outputs": [],
   "source": [
    "print('r: ', correlation(ces3_data, 'ces_3_score', 'asthma'))\n",
    "ces3_data.scatter(\"ces_3_score\", \"asthma\", fit_line=True, alpha = .2, s = 15)\n",
    "plots.title(\"CES 3.0 Score & Asthma Rates in CA Census Tracts\", fontsize=11), plots.xlim(0,100), plots.ylim(0,200);\n",
    "plots.xlabel('CalEnviroScreen 3.0 Score)', fontsize=11)\n",
    "plots.ylabel('Asthma Rate (Per 10,000)', fontsize=11)"
   ]
  },
  {
   "cell_type": "code",
   "execution_count": null,
   "metadata": {},
   "outputs": [],
   "source": [
    "model = sm.ols(formula='cardiovascular_disease ~ ozone', data = ces3_data)\n",
    "fit = model.fit()\n",
    "fit.summary()"
   ]
  },
  {
   "cell_type": "code",
   "execution_count": null,
   "metadata": {},
   "outputs": [],
   "source": [
    "model = sm.ols(formula='cardiovascular_disease ~ ozone', data = bay_counties)\n",
    "fit = model.fit()\n",
    "fit.summary()"
   ]
  },
  {
   "cell_type": "code",
   "execution_count": null,
   "metadata": {},
   "outputs": [],
   "source": [
    "%matplotlib notebook\n",
    "\n",
    "model = sm.ols(formula='asthma ~ diesel + pm_2_5 + drinking_water + pesticides + toxic_releases + traffic + cleanup_sites + groundwater_threats + hazardous_waste + education + linguistic_isolation + poverty + unemployment + housing_burden', data = ces3_data)\n",
    "fit = model.fit()"
   ]
  },
  {
   "cell_type": "code",
   "execution_count": null,
   "metadata": {},
   "outputs": [],
   "source": [
    "fit.summary()"
   ]
  },
  {
   "cell_type": "markdown",
   "metadata": {},
   "source": [
    "Below, I created histograms to visualize the distribution of different EJ issues across the four geographies I ultimately analyzed: the entire state of California, the Bay Area, San Fransisco, and Oakland. "
   ]
  },
  {
   "cell_type": "code",
   "execution_count": null,
   "metadata": {},
   "outputs": [],
   "source": [
    "df['housing_burden'].plot.hist()\n",
    "plots.title(\"Frequency of Housing Burdened Rates\"); \n",
    "plots.xlabel('Percent Households Rent Burdened')\n",
    "plots.ylabel('# of Census Tracts')\n",
    "plots.show()"
   ]
  },
  {
   "cell_type": "code",
   "execution_count": null,
   "metadata": {},
   "outputs": [],
   "source": [
    "df['low_birth_weight'].plot.hist()\n",
    "plots.title(\"Frequency of Low Birth Weight Rates\"); "
   ]
  },
  {
   "cell_type": "code",
   "execution_count": null,
   "metadata": {},
   "outputs": [],
   "source": [
    "df['cleanup_sites'].plot.hist()\n",
    "plots.title(\"Clean Up Site Amounts\"); plots.xlim(0,130), plots.ylim(0,7500);"
   ]
  },
  {
   "cell_type": "code",
   "execution_count": null,
   "metadata": {},
   "outputs": [],
   "source": [
    "df['traffic'].plot.hist()\n",
    "plots.title(\"Frequency of Trafic Rates\"); plots.xlim(0,10000), plots.ylim(0,2000);"
   ]
  },
  {
   "cell_type": "code",
   "execution_count": null,
   "metadata": {},
   "outputs": [],
   "source": [
    "df['pesticides'].plot.hist()\n",
    "plots.title(\"Frequency of Pesticide Rates\"); plots.xlim(0,20000), plots.ylim(0,5000);"
   ]
  },
  {
   "cell_type": "code",
   "execution_count": null,
   "metadata": {},
   "outputs": [],
   "source": [
    "df['pm_2_5'].plot.hist()\n",
    "plots.xlim(0,20), plots.ylim(0,2500);\n",
    "plots.title(\"PM 2.5 Emission Rates in California Census Tracts\");\n",
    "plots.xlabel('PM 2.5 Emission Rates (μg/m3)')\n",
    "plots.ylabel('# of Census Tracts')\n",
    "plots.show()"
   ]
  },
  {
   "cell_type": "code",
   "execution_count": null,
   "metadata": {},
   "outputs": [],
   "source": [
    "df_1['pm_2_5'].plot.hist(color='green')\n",
    "plots.xlim(0,20), plots.ylim(0,600);\n",
    "plots.title(\"PM 2.5 Emission Rates in Bay Area Census Tracts\");\n",
    "plots.xlabel('PM 2.5 Emission Rates (μg/m3)')\n",
    "plots.ylabel('# of Census Tracts')\n",
    "plots.show()"
   ]
  },
  {
   "cell_type": "code",
   "execution_count": null,
   "metadata": {
    "scrolled": false
   },
   "outputs": [],
   "source": [
    "df_2['pm_2_5'].plot.hist(color='orange')\n",
    "plots.title(\"Frequency of PM 2.5 Emissions Rates in San Francisco\");\n",
    "plots.xlabel('PM 2.5 Emissions Rates (μg/m3)')\n",
    "plots.ylabel('# of Census Tracts')\n",
    "plots.show()"
   ]
  },
  {
   "cell_type": "code",
   "execution_count": null,
   "metadata": {},
   "outputs": [],
   "source": [
    "df_3['pm_2_5'].plot.hist(color='purple')\n",
    "plots.title(\"Frequency of PM 2.5 Emissions Rates in Oakland\");\n",
    "plots.xlabel('PM 2.5 Emissions Rates (μg/m3)')\n",
    "plots.ylabel('# of Census Tracts')\n",
    "plots.show()"
   ]
  },
  {
   "cell_type": "code",
   "execution_count": null,
   "metadata": {},
   "outputs": [],
   "source": [
    "df['ozone'].plot.hist()\n",
    "plots.title(\"Frequency of Ozone Emission Rates in California\");\n",
    "plots.xlabel('Ozone Emission Rates (PPM)')\n",
    "plots.ylabel('# of Census Tracts')\n",
    "plots.show()"
   ]
  },
  {
   "cell_type": "code",
   "execution_count": null,
   "metadata": {},
   "outputs": [],
   "source": [
    "df_1['ozone'].plot.hist(color='green')\n",
    "plots.title(\"Frequency of Ozone Emission Rates in the Bay Area\");\n",
    "plots.xlabel('Ozone Emission Rates (PPM)')\n",
    "plots.ylabel('# of Census Tracts')\n",
    "plots.show()"
   ]
  },
  {
   "cell_type": "code",
   "execution_count": null,
   "metadata": {},
   "outputs": [],
   "source": [
    "df_2['ozone'].plot.hist(color='orange')\n",
    "plots.title(\"Frequency of Ozone Emissions Rates in San Francisco\");\n",
    "plots.xlabel('Ozone Emissions Rates (PPM)')\n",
    "plots.ylabel('# of Census Tracts')\n",
    "plots.show()"
   ]
  },
  {
   "cell_type": "code",
   "execution_count": null,
   "metadata": {},
   "outputs": [],
   "source": [
    "df_3['ozone'].plot.hist(color='purple')\n",
    "plots.title(\"Frequency of Ozone Emissions Rates in Oakland\");\n",
    "plots.xlabel('Ozone Emissions Rates (PPM)')\n",
    "plots.ylabel('# of Census Tracts')\n",
    "plots.show()"
   ]
  },
  {
   "cell_type": "code",
   "execution_count": null,
   "metadata": {},
   "outputs": [],
   "source": [
    "df['diesel'].plot.hist()\n",
    "plots.title(\"Frequency of Diesel Emission Rates in California\");\n",
    "plots.xlim(0,120), plots.ylim(0,5000);\n",
    "plots.xlabel('Diesel Emission Rates (kg/Day)')\n",
    "plots.ylabel('# of Census Tracts')\n",
    "plots.show()"
   ]
  },
  {
   "cell_type": "code",
   "execution_count": null,
   "metadata": {},
   "outputs": [],
   "source": [
    "df_1['diesel'].plot.hist(color='green')\n",
    "plots.title(\"Frequency of Diesel Emission Rates in the Bay Area\");\n",
    "plots.xlabel('Diesel Emission Rates (kg/Day)')\n",
    "plots.ylabel('# of Census Tracts')\n",
    "plots.show()"
   ]
  },
  {
   "cell_type": "code",
   "execution_count": null,
   "metadata": {},
   "outputs": [],
   "source": [
    "df_2['diesel'].plot.hist(color='orange')\n",
    "plots.title(\"Frequency of Diesel Emission Rates in San Francisco\");\n",
    "plots.xlabel('Diesel Emission Rates (kg/Day)')\n",
    "plots.ylabel('# of Census Tracts')\n",
    "plots.show()"
   ]
  },
  {
   "cell_type": "code",
   "execution_count": null,
   "metadata": {},
   "outputs": [],
   "source": [
    "df_3['diesel'].plot.hist(color='purple')\n",
    "plots.title(\"Frequency of Diesel Emission Rates in Oakland\");\n",
    "plots.xlabel('Diesel Emission Rates (kg/Day)')\n",
    "plots.ylabel('# of Census Tracts')\n",
    "plots.show()"
   ]
  },
  {
   "cell_type": "code",
   "execution_count": null,
   "metadata": {},
   "outputs": [],
   "source": [
    "df['ces_3_score'].plot.hist()\n",
    "plots.title(\"Frequency of CES 3.0 Scores\");"
   ]
  },
  {
   "cell_type": "code",
   "execution_count": null,
   "metadata": {
    "scrolled": true
   },
   "outputs": [],
   "source": [
    "df['impaired_water_bodies'].plot.hist()\n",
    "plots.title(\"Frequency of Impaired Water Bodies\");"
   ]
  },
  {
   "cell_type": "code",
   "execution_count": null,
   "metadata": {},
   "outputs": [],
   "source": [
    "df['cardiovascular_disease'].plot.hist()\n",
    "plots.title(\"Frequency of Cardiovascular Disease Rates in California\");\n",
    "plots.xlabel('Cardiovascular Disease Rate (Per 10,000)')\n",
    "plots.ylabel('# of Census Tracts')\n",
    "plots.show()"
   ]
  },
  {
   "cell_type": "code",
   "execution_count": null,
   "metadata": {},
   "outputs": [],
   "source": [
    "df_1['cardiovascular_disease'].plot.hist(color='green')\n",
    "plots.title(\"Frequency of Cardiovascular Disease Rates in the Bay Area\");\n",
    "plots.xlabel('Cardiovascular Disease Rate (Per 10,000)')\n",
    "plots.ylabel('# of Census Tracts')\n",
    "plots.show()"
   ]
  },
  {
   "cell_type": "code",
   "execution_count": null,
   "metadata": {},
   "outputs": [],
   "source": [
    "df_2['cardiovascular_disease'].plot.hist(color='orange')\n",
    "plots.title(\"Cardiovascular Disease Rates in San Francisco Census Tracts\");\n",
    "plots.xlabel('Cardiovascular Disease Rate (Per 10,000)')\n",
    "plots.ylabel('# of Census Tracts')\n",
    "plots.show()"
   ]
  },
  {
   "cell_type": "code",
   "execution_count": null,
   "metadata": {},
   "outputs": [],
   "source": [
    "df_3['cardiovascular_disease'].plot.hist(color='purple')\n",
    "plots.title(\"Cardiovascular Disease Rates in Oakland Census Tracts\");\n",
    "plots.xlabel('Cardiovascular Disease Rate (Per 10,000)')\n",
    "plots.ylabel('# of Census Tracts')\n",
    "plots.show()"
   ]
  },
  {
   "cell_type": "code",
   "execution_count": null,
   "metadata": {
    "scrolled": true
   },
   "outputs": [],
   "source": [
    "df['asthma'].plot.hist()\n",
    "plots.title(\"Frequency of Asthma Rates in California\");\n",
    "plots.xlabel('Asthma Rate (Per 10,000)')\n",
    "plots.ylabel('# of Census Tracts')\n",
    "plots.show()"
   ]
  },
  {
   "cell_type": "code",
   "execution_count": null,
   "metadata": {},
   "outputs": [],
   "source": [
    "df_1['asthma'].plot.hist(color='green')\n",
    "plots.title(\"Frequency of Asthma Rates in the Bay Area\");\n",
    "plots.xlabel('Asthma Rate (Per 10,000)')\n",
    "plots.ylabel('# of Census Tracts')\n",
    "plots.show()"
   ]
  },
  {
   "cell_type": "code",
   "execution_count": null,
   "metadata": {
    "scrolled": true
   },
   "outputs": [],
   "source": [
    "df_2['asthma'].plot.hist(color='orange')\n",
    "plots.title(\"Frequency of Asthma Rates in San Francisco\");\n",
    "plots.xlabel('Asthma Rate (Per 10,000)')\n",
    "plots.ylabel('# of Census Tracts')\n",
    "plots.show()"
   ]
  },
  {
   "cell_type": "code",
   "execution_count": null,
   "metadata": {},
   "outputs": [],
   "source": [
    "df_3['asthma'].plot.hist(color='purple')\n",
    "plots.title(\"Frequency of Asthma Rates in Oakland\");\n",
    "plots.xlabel('Asthma Rate (Per 10,000)')\n",
    "plots.ylabel('# of Census Tracts')\n",
    "plots.show()"
   ]
  }
 ],
 "metadata": {
  "kernelspec": {
   "display_name": "Python 3",
   "language": "python",
   "name": "python3"
  },
  "language_info": {
   "codemirror_mode": {
    "name": "ipython",
    "version": 3
   },
   "file_extension": ".py",
   "mimetype": "text/x-python",
   "name": "python",
   "nbconvert_exporter": "python",
   "pygments_lexer": "ipython3",
   "version": "3.6.9"
  }
 },
 "nbformat": 4,
 "nbformat_minor": 2
}
